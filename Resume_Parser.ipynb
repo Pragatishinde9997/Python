{
 "cells": [
  {
   "cell_type": "code",
   "execution_count": 4,
   "id": "8b080e9d",
   "metadata": {},
   "outputs": [
    {
     "name": "stdout",
     "output_type": "stream",
     "text": [
      "Requirement already satisfied: PyPDF2 in c:\\users\\hp\\anaconda3\\lib\\site-packages (3.0.1)\n"
     ]
    }
   ],
   "source": [
    "!pip install PyPDF2"
   ]
  },
  {
   "cell_type": "code",
   "execution_count": 5,
   "id": "03410a47",
   "metadata": {},
   "outputs": [
    {
     "name": "stdout",
     "output_type": "stream",
     "text": [
      "Requirement already satisfied: regex in c:\\users\\hp\\anaconda3\\lib\\site-packages (2022.7.9)\n"
     ]
    }
   ],
   "source": [
    "!pip install regex"
   ]
  },
  {
   "cell_type": "code",
   "execution_count": 3,
   "id": "b89df2c9",
   "metadata": {},
   "outputs": [
    {
     "data": {
      "text/plain": [
       "['E:/Pragati Files/Python/Resume_parser\\\\Harshal_Suryawanshi_Resume.pdf',\n",
       " 'E:/Pragati Files/Python/Resume_parser\\\\Pragati_Shinde_resume.pdf']"
      ]
     },
     "execution_count": 3,
     "metadata": {},
     "output_type": "execute_result"
    }
   ],
   "source": [
    "import glob\n",
    "files=glob.glob('E:/Pragati Files/Python/Resume_parser/*.pdf')\n",
    "files"
   ]
  },
  {
   "cell_type": "code",
   "execution_count": 120,
   "id": "e23b7a99",
   "metadata": {},
   "outputs": [],
   "source": [
    "import PyPDF2\n",
    "def read_Resume_parser(pdf):    #creating a pdf file object\n",
    "    pdfFileObj=open(pdf,'rb')\n",
    "    #creating a pdf reader object\n",
    "    pdfReader=PyPDF2.PdfReader(pdfFileObj)\n",
    "    #printing number of pages in pdf file\n",
    "    p=print(len(pdfReader.pages))\n",
    "    #creating a page object\n",
    "    page_number=2         #changing page number as 0,1,2\n",
    "    pageObj=pdfReader.pages[page_number]\n",
    "    #page = pdfReader.getPage(1)\n",
    "    #extracting text from page\n",
    "    text=pageObj.extract_text()\n",
    "    #closing the pdf file object\n",
    "    pdfFileObj.close()\n",
    "    return text"
   ]
  },
  {
   "cell_type": "code",
   "execution_count": 121,
   "id": "f4f721f2",
   "metadata": {},
   "outputs": [
    {
     "name": "stdout",
     "output_type": "stream",
     "text": [
      "3\n"
     ]
    },
    {
     "data": {
      "text/plain": [
       "'calculation and requirement . \\n• Data creation on Developer platform  and test query according to various test cases created.  \\n• Inserting Sample Data on the basis of requirement in Druid Database.  \\n \\nHANDS ON PROJECT EXPERIENCE DETAILS  \\n• Hands on Experience in development and implementation of enterprise system using MySQL.  \\n• Hands on E xperience on writ ing MySQL complex Query, stored procedure, user defined \\nfunction, trigger, cursor and view based on requirement.  \\n• Hands on experience of requirement analysis, Database design, implementation, testing and \\nmaintenance of database driven application.  \\n• Hands on Experience of performance tuning (SQL query optimization)  \\n• Hands on Experience on Export imp ort data in a pache druid.  \\n• Hands o n Experience on Imp lementing sql query in express code using JavaScript . \\n• Hands on Experiences on debugging the bug and resolving it.  \\n• Hands on Experience on pe rformance tuning in apac he dr uid and PostgreSQL  \\n• Hands on Experience on query writing  in no sq l mongo dB  using Node.js library as Mongoose.  \\n \\n \\nDuration  : 1.9+ Year  \\n Team Size  : 15 (Development)  \\nLanguages  : Java, JavaS cript, MySQL, NoSQL  \\nMongo DB , Apache Druid  Dev Platform  : MySQL (5.7+) ,  \\nApache druid,  \\nMongo DB  \\n \\nLANGUAGES  \\n• English  \\n• Hindi  \\n• Marathi  \\n \\nPERSONAL DETAILS  \\nDate Of Birth  2nd  January , 1997  \\nMailing Address  Suryawanshiharshal35@gmail.com  \\nCurrent Address  Baner , Pune . \\n \\nDECLARATION  \\nI, Harshal Suryawanshi , hereby declare that the information mentioned here is correct to the best of \\nmy knowledge and belief.  \\n \\n \\n_________________   \\nHarshal Govind Suryawanshi  Pune, Maharashtra  \\n '"
      ]
     },
     "execution_count": 121,
     "metadata": {},
     "output_type": "execute_result"
    }
   ],
   "source": [
    "read_Resume_parser(files[0])"
   ]
  },
  {
   "cell_type": "code",
   "execution_count": 122,
   "id": "392bc2c6",
   "metadata": {},
   "outputs": [
    {
     "data": {
      "text/plain": [
       "'E:/Pragati Files/Python/Resume_parser\\\\Harshal_Suryawanshi_Resume.pdf'"
      ]
     },
     "execution_count": 122,
     "metadata": {},
     "output_type": "execute_result"
    }
   ],
   "source": [
    "files[0]"
   ]
  },
  {
   "cell_type": "code",
   "execution_count": 123,
   "id": "3be2060b",
   "metadata": {},
   "outputs": [
    {
     "data": {
      "text/plain": [
       "'E:/Pragati Files/Python/Resume_parser\\\\Pragati_Shinde_resume.pdf'"
      ]
     },
     "execution_count": 123,
     "metadata": {},
     "output_type": "execute_result"
    }
   ],
   "source": [
    "files[1]"
   ]
  },
  {
   "cell_type": "code",
   "execution_count": 21,
   "id": "a69c1493",
   "metadata": {},
   "outputs": [
    {
     "name": "stdout",
     "output_type": "stream",
     "text": [
      "3\n",
      "2\n"
     ]
    }
   ],
   "source": [
    "#text\n",
    "import re\n",
    "ph_no=[]\n",
    "for f in range(2):\n",
    "    pdf_text=read_Resume_parser(files[f])\n",
    "    ph=re.search('\\d{10} | ^91',pdf_text)\n",
    "    if ph is None:\n",
    "        ph_no.append('Not present')\n",
    "    else:\n",
    "        ph_no.append(ph.group())\n",
    "    "
   ]
  },
  {
   "cell_type": "code",
   "execution_count": 38,
   "id": "ce6952fa",
   "metadata": {},
   "outputs": [
    {
     "data": {
      "text/plain": [
       "['7020371812 ', '8055048962 ']"
      ]
     },
     "execution_count": 38,
     "metadata": {},
     "output_type": "execute_result"
    }
   ],
   "source": [
    "ph_no"
   ]
  },
  {
   "cell_type": "code",
   "execution_count": 39,
   "id": "2bd8485a",
   "metadata": {},
   "outputs": [
    {
     "data": {
      "text/plain": [
       "['C:/Users/Hp/Desktop/Resume_parser\\\\Harshal_Suryawanshi_Resume.pdf',\n",
       " 'C:/Users/Hp/Desktop/Resume_parser\\\\Pragati_Shinde_resume.pdf']"
      ]
     },
     "execution_count": 39,
     "metadata": {},
     "output_type": "execute_result"
    }
   ],
   "source": [
    "files"
   ]
  },
  {
   "cell_type": "code",
   "execution_count": 40,
   "id": "c03649b0",
   "metadata": {},
   "outputs": [
    {
     "name": "stdout",
     "output_type": "stream",
     "text": [
      "3\n",
      "2\n"
     ]
    }
   ],
   "source": [
    "name=[]\n",
    "for f in range(2):\n",
    "    pdf_text=read_Resume_parser(files[f])\n",
    "    nam=re.search(r'(\\w+\\s+\\w+)',pdf_text)\n",
    "    name.append(nam.group())\n",
    "    "
   ]
  },
  {
   "cell_type": "code",
   "execution_count": 41,
   "id": "46c2beb8",
   "metadata": {},
   "outputs": [
    {
     "data": {
      "text/plain": [
       "['HARSHAL SURYAWANSHI', 'PRAGATI  SHINDE']"
      ]
     },
     "execution_count": 41,
     "metadata": {},
     "output_type": "execute_result"
    }
   ],
   "source": [
    "name"
   ]
  },
  {
   "cell_type": "code",
   "execution_count": 42,
   "id": "d1dd2009",
   "metadata": {},
   "outputs": [
    {
     "name": "stdout",
     "output_type": "stream",
     "text": [
      "2\n"
     ]
    },
    {
     "data": {
      "text/plain": [
       "' \\n \\n PRAGATI  SHINDE  \\n8055048962  \\npragativs1997@gmail.com  \\n \\n \\nWORK  EXPERIENCE  \\n \\n2.1 Year  \\nPROFILE  SUMMERY  \\n• Offering  2.1 Year  of experience  in Teaching  as Assistant  Professor.  \\n• Extensive  knowledge  knowledge  of Correlation  and Regression,  Knowledge  of Time  \\nSeries  Analysis, Knowledge  of Data  Mining.  \\n• Working  experience  of Teaching.  \\n \\nEDUCATIONAL  QUALIFICATIONS  \\n \\nMaster  of Science -(Statistics)  \\nPadmabhushan Dr. Vasantraodada Patil  \\nCollege,  Tasgaon.  \\nSivaji  University,  Kolhapur.  Post  Graduated,  March -2020  \\nMarks  77.76%  \\nBachelor  of Science  \\nPadmabhushan Dr. Vasantraodada Patil  \\nCollege,  Tasgaon.  \\nSivaji  University,  Kolhapur.  Graduated, March -2018  \\nMarks  83.48%  \\nHSC (12th) \\nSwami Ramanand Bharati Junior College,  \\nTasgaon.  Passed -Feb-2015  \\nMarks  70.15%  \\nSSC (10th) \\nSwami  Ramanand  Bharati  Vidyamandir,  \\nTasgaon.  Passed -March -2013  \\nMarks  79.09 % '"
      ]
     },
     "execution_count": 42,
     "metadata": {},
     "output_type": "execute_result"
    }
   ],
   "source": [
    "read_Resume_parser(files[1])"
   ]
  },
  {
   "cell_type": "code",
   "execution_count": 43,
   "id": "1b229238",
   "metadata": {},
   "outputs": [
    {
     "name": "stdout",
     "output_type": "stream",
     "text": [
      "3\n",
      "2\n"
     ]
    }
   ],
   "source": [
    "e_mail=[]\n",
    "for f in range(2):\n",
    "    pdf_text=read_Resume_parser(files[f])\n",
    "    mail=re.search(r'(\\w+@\\w+)',pdf_text)\n",
    "    e_mail.append(mail.group())\n",
    "    "
   ]
  },
  {
   "cell_type": "code",
   "execution_count": 44,
   "id": "7dbcb0b1",
   "metadata": {},
   "outputs": [
    {
     "data": {
      "text/plain": [
       "['suryawanshiharshal35@gmail', 'pragativs1997@gmail']"
      ]
     },
     "execution_count": 44,
     "metadata": {},
     "output_type": "execute_result"
    }
   ],
   "source": [
    "e_mail"
   ]
  },
  {
   "cell_type": "code",
   "execution_count": 117,
   "id": "b0aca104",
   "metadata": {},
   "outputs": [
    {
     "name": "stdout",
     "output_type": "stream",
     "text": [
      "3\n",
      "2\n"
     ]
    }
   ],
   "source": [
    "import re\n",
    "exp=[]\n",
    "for f in range(2):\n",
    "    pdf_text=read_Resume_parser(files[f])\n",
    "    ex=re.compile(r'^Work | (\\d+) | Year$',re.I)\n",
    "    ex1=ex.search(pdf_text)\n",
    "    \n",
    "    "
   ]
  },
  {
   "cell_type": "code",
   "execution_count": 119,
   "id": "351c094b",
   "metadata": {},
   "outputs": [
    {
     "data": {
      "text/plain": [
       "[]"
      ]
     },
     "execution_count": 119,
     "metadata": {},
     "output_type": "execute_result"
    }
   ],
   "source": [
    "exp"
   ]
  }
 ],
 "metadata": {
  "kernelspec": {
   "display_name": "Python 3 (ipykernel)",
   "language": "python",
   "name": "python3"
  },
  "language_info": {
   "codemirror_mode": {
    "name": "ipython",
    "version": 3
   },
   "file_extension": ".py",
   "mimetype": "text/x-python",
   "name": "python",
   "nbconvert_exporter": "python",
   "pygments_lexer": "ipython3",
   "version": "3.10.9"
  }
 },
 "nbformat": 4,
 "nbformat_minor": 5
}
